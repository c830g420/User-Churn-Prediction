{
 "cells": [
  {
   "cell_type": "markdown",
   "metadata": {},
   "source": [
    "# User Churn Prediction "
   ]
  },
  {
   "cell_type": "markdown",
   "metadata": {},
   "source": [
    "<p>Churn rate (sometimes called attrition rate), in its broadest sense, is a measure of the number of individuals or items moving out of a collective group over a specific period. It is one of two primary factors that determine the steady-state level of customers a business will support.</p>\n",
    "<style>\n",
    "    p::first-letter {\n",
    "        font-size: 200%;\n",
    "    }\n",
    "</style>"
   ]
  },
  {
   "cell_type": "markdown",
   "metadata": {},
   "source": [
    "## Data Exploration"
   ]
  },
  {
   "cell_type": "markdown",
   "metadata": {},
   "source": [
    "### Raw Data"
   ]
  },
  {
   "cell_type": "markdown",
   "metadata": {},
   "source": [
    "<ul style=\"visibility:hidden\">\n",
    "    <li>Data Source: https://www.sgi.com/tech/mlc/db/churn.all</li>\n",
    "    <li>Data info: https://www.sgi.com/tech/mlc/db/churn.names</li>\n",
    "</ul>"
   ]
  },
  {
   "cell_type": "code",
   "execution_count": 1,
   "metadata": {},
   "outputs": [],
   "source": [
    "# import warnings\n",
    "# warnings.filterwarnings('ignore')\n",
    "\n",
    "import pandas as pd\n",
    "import numpy as np\n",
    "\n",
    "pd.set_option('display.max_columns', None)\n",
    "\n",
    "churn_df = pd.read_csv('data/churn.all')"
   ]
  },
  {
   "cell_type": "code",
   "execution_count": 2,
   "metadata": {},
   "outputs": [
    {
     "data": {
      "text/html": [
       "<div>\n",
       "<style scoped>\n",
       "    .dataframe tbody tr th:only-of-type {\n",
       "        vertical-align: middle;\n",
       "    }\n",
       "\n",
       "    .dataframe tbody tr th {\n",
       "        vertical-align: top;\n",
       "    }\n",
       "\n",
       "    .dataframe thead th {\n",
       "        text-align: right;\n",
       "    }\n",
       "</style>\n",
       "<table border=\"1\" class=\"dataframe\">\n",
       "  <thead>\n",
       "    <tr style=\"text-align: right;\">\n",
       "      <th></th>\n",
       "      <th>state</th>\n",
       "      <th>account_length</th>\n",
       "      <th>area_code</th>\n",
       "      <th>phone_number</th>\n",
       "      <th>intl_plan</th>\n",
       "      <th>voice_mail_plan</th>\n",
       "      <th>number_vmail_messages</th>\n",
       "      <th>total_day_minutes</th>\n",
       "      <th>total_day_calls</th>\n",
       "      <th>total_day_charge</th>\n",
       "      <th>total_eve_minutes</th>\n",
       "      <th>total_eve_calls</th>\n",
       "      <th>total_eve_charge</th>\n",
       "      <th>total_night_minutes</th>\n",
       "      <th>total_night_calls</th>\n",
       "      <th>total_night_charge</th>\n",
       "      <th>total_intl_minutes</th>\n",
       "      <th>total_intl_calls</th>\n",
       "      <th>total_intl_charge</th>\n",
       "      <th>number_customer_service_calls</th>\n",
       "      <th>churned</th>\n",
       "    </tr>\n",
       "  </thead>\n",
       "  <tbody>\n",
       "    <tr>\n",
       "      <th>0</th>\n",
       "      <td>KS</td>\n",
       "      <td>128</td>\n",
       "      <td>415</td>\n",
       "      <td>382-4657</td>\n",
       "      <td>no</td>\n",
       "      <td>yes</td>\n",
       "      <td>25</td>\n",
       "      <td>265.1</td>\n",
       "      <td>110</td>\n",
       "      <td>45.07</td>\n",
       "      <td>197.4</td>\n",
       "      <td>99</td>\n",
       "      <td>16.78</td>\n",
       "      <td>244.7</td>\n",
       "      <td>91</td>\n",
       "      <td>11.01</td>\n",
       "      <td>10.0</td>\n",
       "      <td>3</td>\n",
       "      <td>2.70</td>\n",
       "      <td>1</td>\n",
       "      <td>False.</td>\n",
       "    </tr>\n",
       "    <tr>\n",
       "      <th>1</th>\n",
       "      <td>OH</td>\n",
       "      <td>107</td>\n",
       "      <td>415</td>\n",
       "      <td>371-7191</td>\n",
       "      <td>no</td>\n",
       "      <td>yes</td>\n",
       "      <td>26</td>\n",
       "      <td>161.6</td>\n",
       "      <td>123</td>\n",
       "      <td>27.47</td>\n",
       "      <td>195.5</td>\n",
       "      <td>103</td>\n",
       "      <td>16.62</td>\n",
       "      <td>254.4</td>\n",
       "      <td>103</td>\n",
       "      <td>11.45</td>\n",
       "      <td>13.7</td>\n",
       "      <td>3</td>\n",
       "      <td>3.70</td>\n",
       "      <td>1</td>\n",
       "      <td>False.</td>\n",
       "    </tr>\n",
       "    <tr>\n",
       "      <th>2</th>\n",
       "      <td>NJ</td>\n",
       "      <td>137</td>\n",
       "      <td>415</td>\n",
       "      <td>358-1921</td>\n",
       "      <td>no</td>\n",
       "      <td>no</td>\n",
       "      <td>0</td>\n",
       "      <td>243.4</td>\n",
       "      <td>114</td>\n",
       "      <td>41.38</td>\n",
       "      <td>121.2</td>\n",
       "      <td>110</td>\n",
       "      <td>10.30</td>\n",
       "      <td>162.6</td>\n",
       "      <td>104</td>\n",
       "      <td>7.32</td>\n",
       "      <td>12.2</td>\n",
       "      <td>5</td>\n",
       "      <td>3.29</td>\n",
       "      <td>0</td>\n",
       "      <td>False.</td>\n",
       "    </tr>\n",
       "    <tr>\n",
       "      <th>3</th>\n",
       "      <td>OH</td>\n",
       "      <td>84</td>\n",
       "      <td>408</td>\n",
       "      <td>375-9999</td>\n",
       "      <td>yes</td>\n",
       "      <td>no</td>\n",
       "      <td>0</td>\n",
       "      <td>299.4</td>\n",
       "      <td>71</td>\n",
       "      <td>50.90</td>\n",
       "      <td>61.9</td>\n",
       "      <td>88</td>\n",
       "      <td>5.26</td>\n",
       "      <td>196.9</td>\n",
       "      <td>89</td>\n",
       "      <td>8.86</td>\n",
       "      <td>6.6</td>\n",
       "      <td>7</td>\n",
       "      <td>1.78</td>\n",
       "      <td>2</td>\n",
       "      <td>False.</td>\n",
       "    </tr>\n",
       "    <tr>\n",
       "      <th>4</th>\n",
       "      <td>OK</td>\n",
       "      <td>75</td>\n",
       "      <td>415</td>\n",
       "      <td>330-6626</td>\n",
       "      <td>yes</td>\n",
       "      <td>no</td>\n",
       "      <td>0</td>\n",
       "      <td>166.7</td>\n",
       "      <td>113</td>\n",
       "      <td>28.34</td>\n",
       "      <td>148.3</td>\n",
       "      <td>122</td>\n",
       "      <td>12.61</td>\n",
       "      <td>186.9</td>\n",
       "      <td>121</td>\n",
       "      <td>8.41</td>\n",
       "      <td>10.1</td>\n",
       "      <td>3</td>\n",
       "      <td>2.73</td>\n",
       "      <td>3</td>\n",
       "      <td>False.</td>\n",
       "    </tr>\n",
       "  </tbody>\n",
       "</table>\n",
       "</div>"
      ],
      "text/plain": [
       "  state  account_length  area_code phone_number intl_plan voice_mail_plan  \\\n",
       "0    KS             128        415     382-4657        no             yes   \n",
       "1    OH             107        415     371-7191        no             yes   \n",
       "2    NJ             137        415     358-1921        no              no   \n",
       "3    OH              84        408     375-9999       yes              no   \n",
       "4    OK              75        415     330-6626       yes              no   \n",
       "\n",
       "   number_vmail_messages  total_day_minutes  total_day_calls  \\\n",
       "0                     25              265.1              110   \n",
       "1                     26              161.6              123   \n",
       "2                      0              243.4              114   \n",
       "3                      0              299.4               71   \n",
       "4                      0              166.7              113   \n",
       "\n",
       "   total_day_charge  total_eve_minutes  total_eve_calls  total_eve_charge  \\\n",
       "0             45.07              197.4               99             16.78   \n",
       "1             27.47              195.5              103             16.62   \n",
       "2             41.38              121.2              110             10.30   \n",
       "3             50.90               61.9               88              5.26   \n",
       "4             28.34              148.3              122             12.61   \n",
       "\n",
       "   total_night_minutes  total_night_calls  total_night_charge  \\\n",
       "0                244.7                 91               11.01   \n",
       "1                254.4                103               11.45   \n",
       "2                162.6                104                7.32   \n",
       "3                196.9                 89                8.86   \n",
       "4                186.9                121                8.41   \n",
       "\n",
       "   total_intl_minutes  total_intl_calls  total_intl_charge  \\\n",
       "0                10.0                 3               2.70   \n",
       "1                13.7                 3               3.70   \n",
       "2                12.2                 5               3.29   \n",
       "3                 6.6                 7               1.78   \n",
       "4                10.1                 3               2.73   \n",
       "\n",
       "   number_customer_service_calls  churned  \n",
       "0                              1   False.  \n",
       "1                              1   False.  \n",
       "2                              0   False.  \n",
       "3                              2   False.  \n",
       "4                              3   False.  "
      ]
     },
     "execution_count": 2,
     "metadata": {},
     "output_type": "execute_result"
    }
   ],
   "source": [
    "churn_df.head()"
   ]
  },
  {
   "cell_type": "code",
   "execution_count": 3,
   "metadata": {},
   "outputs": [
    {
     "name": "stdout",
     "output_type": "stream",
     "text": [
      "Number of rows:\t\t5000\n",
      "Number of columns:\t21\n"
     ]
    }
   ],
   "source": [
    "print('Number of rows:\\t\\t%d' % churn_df.shape[0])\n",
    "print('Number of columns:\\t%d' % churn_df.shape[1])"
   ]
  },
  {
   "cell_type": "markdown",
   "metadata": {},
   "source": [
    "### Data Cleaning"
   ]
  },
  {
   "cell_type": "markdown",
   "metadata": {},
   "source": [
    "remove extra whitespace"
   ]
  },
  {
   "cell_type": "code",
   "execution_count": 4,
   "metadata": {},
   "outputs": [
    {
     "data": {
      "text/plain": [
       "Index(['state', 'account_length', 'area_code', 'phone_number', 'intl_plan',\n",
       "       'voice_mail_plan', 'number_vmail_messages', 'total_day_minutes',\n",
       "       'total_day_calls', 'total_day_charge', 'total_eve_minutes',\n",
       "       'total_eve_calls', 'total_eve_charge', 'total_night_minutes',\n",
       "       'total_night_calls', 'total_night_charge', 'total_intl_minutes',\n",
       "       'total_intl_calls', 'total_intl_charge',\n",
       "       'number_customer_service_calls', 'churned'],\n",
       "      dtype='object')"
      ]
     },
     "execution_count": 4,
     "metadata": {},
     "output_type": "execute_result"
    }
   ],
   "source": [
    "churn_df.columns"
   ]
  },
  {
   "cell_type": "code",
   "execution_count": 5,
   "metadata": {},
   "outputs": [
    {
     "name": "stdout",
     "output_type": "stream",
     "text": [
      "phone_number\n",
      "intl_plan\n",
      "voice_mail_plan\n",
      "churned\n"
     ]
    }
   ],
   "source": [
    "for c in churn_df.columns:\n",
    "    if (str(churn_df[c][0])[0] == ' ' or str(churn_df[c][0])[-1] == ' '):\n",
    "        print(c)"
   ]
  },
  {
   "cell_type": "code",
   "execution_count": 6,
   "metadata": {},
   "outputs": [
    {
     "name": "stdout",
     "output_type": "stream",
     "text": [
      "state\n",
      "KS\n",
      "account_length\n",
      "128\n",
      "area_code\n",
      "415\n",
      "phone_number\n",
      " 382-4657\n",
      "intl_plan\n",
      " no\n",
      "voice_mail_plan\n",
      " yes\n",
      "number_vmail_messages\n",
      "25\n",
      "total_day_minutes\n",
      "265.1\n",
      "total_day_calls\n",
      "110\n",
      "total_day_charge\n",
      "45.07\n",
      "total_eve_minutes\n",
      "197.4\n",
      "total_eve_calls\n",
      "99\n",
      "total_eve_charge\n",
      "16.78\n",
      "total_night_minutes\n",
      "244.7\n",
      "total_night_calls\n",
      "91\n",
      "total_night_charge\n",
      "11.01\n",
      "total_intl_minutes\n",
      "10.0\n",
      "total_intl_calls\n",
      "3\n",
      "total_intl_charge\n",
      "2.7\n",
      "number_customer_service_calls\n",
      "1\n",
      "churned\n",
      " False.\n"
     ]
    }
   ],
   "source": [
    "for c in churn_df.columns:\n",
    "    print(c)\n",
    "    print(churn_df[c][0])"
   ]
  },
  {
   "cell_type": "code",
   "execution_count": 7,
   "metadata": {},
   "outputs": [],
   "source": [
    "def removeSpace(df) :\n",
    "    lc = list()\n",
    "    for c in df.columns:\n",
    "        s = str(df[c][0])\n",
    "        if (s[0] == ' ' or s[-1] == ' ' ):\n",
    "            lc.append(c)\n",
    "    for c in lc:\n",
    "        df[c] = df[c].map(lambda x: x.strip())\n",
    "    "
   ]
  },
  {
   "cell_type": "code",
   "execution_count": 8,
   "metadata": {},
   "outputs": [],
   "source": [
    "removeSpace(churn_df)"
   ]
  },
  {
   "cell_type": "code",
   "execution_count": 9,
   "metadata": {},
   "outputs": [
    {
     "data": {
      "text/html": [
       "<div>\n",
       "<style scoped>\n",
       "    .dataframe tbody tr th:only-of-type {\n",
       "        vertical-align: middle;\n",
       "    }\n",
       "\n",
       "    .dataframe tbody tr th {\n",
       "        vertical-align: top;\n",
       "    }\n",
       "\n",
       "    .dataframe thead th {\n",
       "        text-align: right;\n",
       "    }\n",
       "</style>\n",
       "<table border=\"1\" class=\"dataframe\">\n",
       "  <thead>\n",
       "    <tr style=\"text-align: right;\">\n",
       "      <th></th>\n",
       "      <th>state</th>\n",
       "      <th>account_length</th>\n",
       "      <th>area_code</th>\n",
       "      <th>phone_number</th>\n",
       "      <th>intl_plan</th>\n",
       "      <th>voice_mail_plan</th>\n",
       "      <th>number_vmail_messages</th>\n",
       "      <th>total_day_minutes</th>\n",
       "      <th>total_day_calls</th>\n",
       "      <th>total_day_charge</th>\n",
       "      <th>total_eve_minutes</th>\n",
       "      <th>total_eve_calls</th>\n",
       "      <th>total_eve_charge</th>\n",
       "      <th>total_night_minutes</th>\n",
       "      <th>total_night_calls</th>\n",
       "      <th>total_night_charge</th>\n",
       "      <th>total_intl_minutes</th>\n",
       "      <th>total_intl_calls</th>\n",
       "      <th>total_intl_charge</th>\n",
       "      <th>number_customer_service_calls</th>\n",
       "      <th>churned</th>\n",
       "    </tr>\n",
       "  </thead>\n",
       "  <tbody>\n",
       "    <tr>\n",
       "      <th>0</th>\n",
       "      <td>KS</td>\n",
       "      <td>128</td>\n",
       "      <td>415</td>\n",
       "      <td>382-4657</td>\n",
       "      <td>no</td>\n",
       "      <td>yes</td>\n",
       "      <td>25</td>\n",
       "      <td>265.1</td>\n",
       "      <td>110</td>\n",
       "      <td>45.07</td>\n",
       "      <td>197.4</td>\n",
       "      <td>99</td>\n",
       "      <td>16.78</td>\n",
       "      <td>244.7</td>\n",
       "      <td>91</td>\n",
       "      <td>11.01</td>\n",
       "      <td>10.0</td>\n",
       "      <td>3</td>\n",
       "      <td>2.70</td>\n",
       "      <td>1</td>\n",
       "      <td>False.</td>\n",
       "    </tr>\n",
       "    <tr>\n",
       "      <th>1</th>\n",
       "      <td>OH</td>\n",
       "      <td>107</td>\n",
       "      <td>415</td>\n",
       "      <td>371-7191</td>\n",
       "      <td>no</td>\n",
       "      <td>yes</td>\n",
       "      <td>26</td>\n",
       "      <td>161.6</td>\n",
       "      <td>123</td>\n",
       "      <td>27.47</td>\n",
       "      <td>195.5</td>\n",
       "      <td>103</td>\n",
       "      <td>16.62</td>\n",
       "      <td>254.4</td>\n",
       "      <td>103</td>\n",
       "      <td>11.45</td>\n",
       "      <td>13.7</td>\n",
       "      <td>3</td>\n",
       "      <td>3.70</td>\n",
       "      <td>1</td>\n",
       "      <td>False.</td>\n",
       "    </tr>\n",
       "    <tr>\n",
       "      <th>2</th>\n",
       "      <td>NJ</td>\n",
       "      <td>137</td>\n",
       "      <td>415</td>\n",
       "      <td>358-1921</td>\n",
       "      <td>no</td>\n",
       "      <td>no</td>\n",
       "      <td>0</td>\n",
       "      <td>243.4</td>\n",
       "      <td>114</td>\n",
       "      <td>41.38</td>\n",
       "      <td>121.2</td>\n",
       "      <td>110</td>\n",
       "      <td>10.30</td>\n",
       "      <td>162.6</td>\n",
       "      <td>104</td>\n",
       "      <td>7.32</td>\n",
       "      <td>12.2</td>\n",
       "      <td>5</td>\n",
       "      <td>3.29</td>\n",
       "      <td>0</td>\n",
       "      <td>False.</td>\n",
       "    </tr>\n",
       "    <tr>\n",
       "      <th>3</th>\n",
       "      <td>OH</td>\n",
       "      <td>84</td>\n",
       "      <td>408</td>\n",
       "      <td>375-9999</td>\n",
       "      <td>yes</td>\n",
       "      <td>no</td>\n",
       "      <td>0</td>\n",
       "      <td>299.4</td>\n",
       "      <td>71</td>\n",
       "      <td>50.90</td>\n",
       "      <td>61.9</td>\n",
       "      <td>88</td>\n",
       "      <td>5.26</td>\n",
       "      <td>196.9</td>\n",
       "      <td>89</td>\n",
       "      <td>8.86</td>\n",
       "      <td>6.6</td>\n",
       "      <td>7</td>\n",
       "      <td>1.78</td>\n",
       "      <td>2</td>\n",
       "      <td>False.</td>\n",
       "    </tr>\n",
       "    <tr>\n",
       "      <th>4</th>\n",
       "      <td>OK</td>\n",
       "      <td>75</td>\n",
       "      <td>415</td>\n",
       "      <td>330-6626</td>\n",
       "      <td>yes</td>\n",
       "      <td>no</td>\n",
       "      <td>0</td>\n",
       "      <td>166.7</td>\n",
       "      <td>113</td>\n",
       "      <td>28.34</td>\n",
       "      <td>148.3</td>\n",
       "      <td>122</td>\n",
       "      <td>12.61</td>\n",
       "      <td>186.9</td>\n",
       "      <td>121</td>\n",
       "      <td>8.41</td>\n",
       "      <td>10.1</td>\n",
       "      <td>3</td>\n",
       "      <td>2.73</td>\n",
       "      <td>3</td>\n",
       "      <td>False.</td>\n",
       "    </tr>\n",
       "  </tbody>\n",
       "</table>\n",
       "</div>"
      ],
      "text/plain": [
       "  state  account_length  area_code phone_number intl_plan voice_mail_plan  \\\n",
       "0    KS             128        415     382-4657        no             yes   \n",
       "1    OH             107        415     371-7191        no             yes   \n",
       "2    NJ             137        415     358-1921        no              no   \n",
       "3    OH              84        408     375-9999       yes              no   \n",
       "4    OK              75        415     330-6626       yes              no   \n",
       "\n",
       "   number_vmail_messages  total_day_minutes  total_day_calls  \\\n",
       "0                     25              265.1              110   \n",
       "1                     26              161.6              123   \n",
       "2                      0              243.4              114   \n",
       "3                      0              299.4               71   \n",
       "4                      0              166.7              113   \n",
       "\n",
       "   total_day_charge  total_eve_minutes  total_eve_calls  total_eve_charge  \\\n",
       "0             45.07              197.4               99             16.78   \n",
       "1             27.47              195.5              103             16.62   \n",
       "2             41.38              121.2              110             10.30   \n",
       "3             50.90               61.9               88              5.26   \n",
       "4             28.34              148.3              122             12.61   \n",
       "\n",
       "   total_night_minutes  total_night_calls  total_night_charge  \\\n",
       "0                244.7                 91               11.01   \n",
       "1                254.4                103               11.45   \n",
       "2                162.6                104                7.32   \n",
       "3                196.9                 89                8.86   \n",
       "4                186.9                121                8.41   \n",
       "\n",
       "   total_intl_minutes  total_intl_calls  total_intl_charge  \\\n",
       "0                10.0                 3               2.70   \n",
       "1                13.7                 3               3.70   \n",
       "2                12.2                 5               3.29   \n",
       "3                 6.6                 7               1.78   \n",
       "4                10.1                 3               2.73   \n",
       "\n",
       "   number_customer_service_calls churned  \n",
       "0                              1  False.  \n",
       "1                              1  False.  \n",
       "2                              0  False.  \n",
       "3                              2  False.  \n",
       "4                              3  False.  "
      ]
     },
     "execution_count": 9,
     "metadata": {},
     "output_type": "execute_result"
    }
   ],
   "source": [
    "# not ready to remove \n",
    "\n",
    "churn_df.head()"
   ]
  },
  {
   "cell_type": "markdown",
   "metadata": {},
   "source": [
    "### Features"
   ]
  },
  {
   "cell_type": "code",
   "execution_count": 10,
   "metadata": {},
   "outputs": [
    {
     "name": "stderr",
     "output_type": "stream",
     "text": [
      "/home/c830g420/anaconda3/lib/python3.6/site-packages/matplotlib/axes/_axes.py:6462: UserWarning: The 'normed' kwarg is deprecated, and has been replaced by the 'density' kwarg.\n",
      "  warnings.warn(\"The 'normed' kwarg is deprecated, and has been \"\n"
     ]
    },
    {
     "data": {
      "text/plain": [
       "<matplotlib.axes._subplots.AxesSubplot at 0x7f8ca9bc4e80>"
      ]
     },
     "execution_count": 10,
     "metadata": {},
     "output_type": "execute_result"
    },
    {
     "data": {
      "image/png": "[encoded data removed]",
      "text/plain": [
       "<Figure size 432x288 with 1 Axes>"
      ]
     },
     "metadata": {},
     "output_type": "display_data"
    }
   ],
   "source": [
    "%matplotlib inline\n",
    "import matplotlib.pyplot as plt\n",
    "import seaborn as sb\n",
    "\n",
    "sb.distplot(churn_df['total_intl_charge'], kde=True)"
   ]
  },
  {
   "cell_type": "code",
   "execution_count": 11,
   "metadata": {},
   "outputs": [
    {
     "data": {
      "text/plain": [
       "<matplotlib.axes._subplots.AxesSubplot at 0x7f8ca551f710>"
      ]
     },
     "execution_count": 11,
     "metadata": {},
     "output_type": "execute_result"
    },
    {
     "data": {
      "image/png": "[encoded data removed]",
      "text/plain": [
       "<Figure size 432x288 with 2 Axes>"
      ]
     },
     "metadata": {},
     "output_type": "display_data"
    }
   ],
   "source": [
    "corr = churn_df[[\"account_length\", \"number_vmail_messages\", \"total_day_minutes\",\n",
    "                    \"total_day_calls\", \"total_day_charge\", \"total_eve_minutes\",\n",
    "                    \"total_eve_calls\", \"total_eve_charge\", \"total_night_minutes\",\n",
    "                    \"total_night_calls\", \"total_intl_minutes\", \"total_intl_calls\",\n",
    "                    \"total_intl_charge\"]].corr()\n",
    "sb.heatmap(corr)"
   ]
  },
  {
   "cell_type": "code",
   "execution_count": 12,
   "metadata": {},
   "outputs": [
    {
     "data": {
      "text/html": [
       "<div>\n",
       "<style scoped>\n",
       "    .dataframe tbody tr th:only-of-type {\n",
       "        vertical-align: middle;\n",
       "    }\n",
       "\n",
       "    .dataframe tbody tr th {\n",
       "        vertical-align: top;\n",
       "    }\n",
       "\n",
       "    .dataframe thead th {\n",
       "        text-align: right;\n",
       "    }\n",
       "</style>\n",
       "<table border=\"1\" class=\"dataframe\">\n",
       "  <thead>\n",
       "    <tr style=\"text-align: right;\">\n",
       "      <th></th>\n",
       "      <th>account_length</th>\n",
       "      <th>number_vmail_messages</th>\n",
       "      <th>total_day_minutes</th>\n",
       "      <th>total_day_calls</th>\n",
       "      <th>total_day_charge</th>\n",
       "      <th>total_eve_minutes</th>\n",
       "      <th>total_eve_calls</th>\n",
       "      <th>total_eve_charge</th>\n",
       "      <th>total_night_minutes</th>\n",
       "      <th>total_night_calls</th>\n",
       "      <th>total_intl_minutes</th>\n",
       "      <th>total_intl_calls</th>\n",
       "      <th>total_intl_charge</th>\n",
       "    </tr>\n",
       "  </thead>\n",
       "  <tbody>\n",
       "    <tr>\n",
       "      <th>account_length</th>\n",
       "      <td>1.000000</td>\n",
       "      <td>-0.014575</td>\n",
       "      <td>-0.001017</td>\n",
       "      <td>0.028240</td>\n",
       "      <td>-0.001019</td>\n",
       "      <td>-0.009591</td>\n",
       "      <td>0.009143</td>\n",
       "      <td>-0.009587</td>\n",
       "      <td>0.000668</td>\n",
       "      <td>-0.007825</td>\n",
       "      <td>0.001291</td>\n",
       "      <td>0.014277</td>\n",
       "      <td>0.001292</td>\n",
       "    </tr>\n",
       "    <tr>\n",
       "      <th>number_vmail_messages</th>\n",
       "      <td>-0.014575</td>\n",
       "      <td>1.000000</td>\n",
       "      <td>0.005381</td>\n",
       "      <td>0.000883</td>\n",
       "      <td>0.005377</td>\n",
       "      <td>0.019490</td>\n",
       "      <td>-0.003954</td>\n",
       "      <td>0.019496</td>\n",
       "      <td>0.005541</td>\n",
       "      <td>0.002676</td>\n",
       "      <td>0.002463</td>\n",
       "      <td>0.000124</td>\n",
       "      <td>0.002505</td>\n",
       "    </tr>\n",
       "    <tr>\n",
       "      <th>total_day_minutes</th>\n",
       "      <td>-0.001017</td>\n",
       "      <td>0.005381</td>\n",
       "      <td>1.000000</td>\n",
       "      <td>0.001935</td>\n",
       "      <td>1.000000</td>\n",
       "      <td>-0.010750</td>\n",
       "      <td>0.008128</td>\n",
       "      <td>-0.010760</td>\n",
       "      <td>0.011799</td>\n",
       "      <td>0.004236</td>\n",
       "      <td>-0.019486</td>\n",
       "      <td>-0.001303</td>\n",
       "      <td>-0.019415</td>\n",
       "    </tr>\n",
       "    <tr>\n",
       "      <th>total_day_calls</th>\n",
       "      <td>0.028240</td>\n",
       "      <td>0.000883</td>\n",
       "      <td>0.001935</td>\n",
       "      <td>1.000000</td>\n",
       "      <td>0.001936</td>\n",
       "      <td>-0.000699</td>\n",
       "      <td>0.003754</td>\n",
       "      <td>-0.000695</td>\n",
       "      <td>0.002804</td>\n",
       "      <td>-0.008308</td>\n",
       "      <td>0.013097</td>\n",
       "      <td>0.010893</td>\n",
       "      <td>0.013161</td>\n",
       "    </tr>\n",
       "    <tr>\n",
       "      <th>total_day_charge</th>\n",
       "      <td>-0.001019</td>\n",
       "      <td>0.005377</td>\n",
       "      <td>1.000000</td>\n",
       "      <td>0.001936</td>\n",
       "      <td>1.000000</td>\n",
       "      <td>-0.010747</td>\n",
       "      <td>0.008129</td>\n",
       "      <td>-0.010757</td>\n",
       "      <td>0.011801</td>\n",
       "      <td>0.004235</td>\n",
       "      <td>-0.019490</td>\n",
       "      <td>-0.001307</td>\n",
       "      <td>-0.019419</td>\n",
       "    </tr>\n",
       "    <tr>\n",
       "      <th>total_eve_minutes</th>\n",
       "      <td>-0.009591</td>\n",
       "      <td>0.019490</td>\n",
       "      <td>-0.010750</td>\n",
       "      <td>-0.000699</td>\n",
       "      <td>-0.010747</td>\n",
       "      <td>1.000000</td>\n",
       "      <td>0.002763</td>\n",
       "      <td>1.000000</td>\n",
       "      <td>-0.016639</td>\n",
       "      <td>0.013420</td>\n",
       "      <td>0.000137</td>\n",
       "      <td>0.008388</td>\n",
       "      <td>0.000159</td>\n",
       "    </tr>\n",
       "    <tr>\n",
       "      <th>total_eve_calls</th>\n",
       "      <td>0.009143</td>\n",
       "      <td>-0.003954</td>\n",
       "      <td>0.008128</td>\n",
       "      <td>0.003754</td>\n",
       "      <td>0.008129</td>\n",
       "      <td>0.002763</td>\n",
       "      <td>1.000000</td>\n",
       "      <td>0.002778</td>\n",
       "      <td>0.001781</td>\n",
       "      <td>-0.013682</td>\n",
       "      <td>-0.007458</td>\n",
       "      <td>0.005574</td>\n",
       "      <td>-0.007507</td>\n",
       "    </tr>\n",
       "    <tr>\n",
       "      <th>total_eve_charge</th>\n",
       "      <td>-0.009587</td>\n",
       "      <td>0.019496</td>\n",
       "      <td>-0.010760</td>\n",
       "      <td>-0.000695</td>\n",
       "      <td>-0.010757</td>\n",
       "      <td>1.000000</td>\n",
       "      <td>0.002778</td>\n",
       "      <td>1.000000</td>\n",
       "      <td>-0.016649</td>\n",
       "      <td>0.013422</td>\n",
       "      <td>0.000132</td>\n",
       "      <td>0.008393</td>\n",
       "      <td>0.000155</td>\n",
       "    </tr>\n",
       "    <tr>\n",
       "      <th>total_night_minutes</th>\n",
       "      <td>0.000668</td>\n",
       "      <td>0.005541</td>\n",
       "      <td>0.011799</td>\n",
       "      <td>0.002804</td>\n",
       "      <td>0.011801</td>\n",
       "      <td>-0.016639</td>\n",
       "      <td>0.001781</td>\n",
       "      <td>-0.016649</td>\n",
       "      <td>1.000000</td>\n",
       "      <td>0.026972</td>\n",
       "      <td>-0.006721</td>\n",
       "      <td>-0.017214</td>\n",
       "      <td>-0.006655</td>\n",
       "    </tr>\n",
       "    <tr>\n",
       "      <th>total_night_calls</th>\n",
       "      <td>-0.007825</td>\n",
       "      <td>0.002676</td>\n",
       "      <td>0.004236</td>\n",
       "      <td>-0.008308</td>\n",
       "      <td>0.004235</td>\n",
       "      <td>0.013420</td>\n",
       "      <td>-0.013682</td>\n",
       "      <td>0.013422</td>\n",
       "      <td>0.026972</td>\n",
       "      <td>1.000000</td>\n",
       "      <td>0.000391</td>\n",
       "      <td>-0.000156</td>\n",
       "      <td>0.000368</td>\n",
       "    </tr>\n",
       "    <tr>\n",
       "      <th>total_intl_minutes</th>\n",
       "      <td>0.001291</td>\n",
       "      <td>0.002463</td>\n",
       "      <td>-0.019486</td>\n",
       "      <td>0.013097</td>\n",
       "      <td>-0.019490</td>\n",
       "      <td>0.000137</td>\n",
       "      <td>-0.007458</td>\n",
       "      <td>0.000132</td>\n",
       "      <td>-0.006721</td>\n",
       "      <td>0.000391</td>\n",
       "      <td>1.000000</td>\n",
       "      <td>0.016791</td>\n",
       "      <td>0.999993</td>\n",
       "    </tr>\n",
       "    <tr>\n",
       "      <th>total_intl_calls</th>\n",
       "      <td>0.014277</td>\n",
       "      <td>0.000124</td>\n",
       "      <td>-0.001303</td>\n",
       "      <td>0.010893</td>\n",
       "      <td>-0.001307</td>\n",
       "      <td>0.008388</td>\n",
       "      <td>0.005574</td>\n",
       "      <td>0.008393</td>\n",
       "      <td>-0.017214</td>\n",
       "      <td>-0.000156</td>\n",
       "      <td>0.016791</td>\n",
       "      <td>1.000000</td>\n",
       "      <td>0.016900</td>\n",
       "    </tr>\n",
       "    <tr>\n",
       "      <th>total_intl_charge</th>\n",
       "      <td>0.001292</td>\n",
       "      <td>0.002505</td>\n",
       "      <td>-0.019415</td>\n",
       "      <td>0.013161</td>\n",
       "      <td>-0.019419</td>\n",
       "      <td>0.000159</td>\n",
       "      <td>-0.007507</td>\n",
       "      <td>0.000155</td>\n",
       "      <td>-0.006655</td>\n",
       "      <td>0.000368</td>\n",
       "      <td>0.999993</td>\n",
       "      <td>0.016900</td>\n",
       "      <td>1.000000</td>\n",
       "    </tr>\n",
       "  </tbody>\n",
       "</table>\n",
       "</div>"
      ],
      "text/plain": [
       "                       account_length  number_vmail_messages  \\\n",
       "account_length               1.000000              -0.014575   \n",
       "number_vmail_messages       -0.014575               1.000000   \n",
       "total_day_minutes           -0.001017               0.005381   \n",
       "total_day_calls              0.028240               0.000883   \n",
       "total_day_charge            -0.001019               0.005377   \n",
       "total_eve_minutes           -0.009591               0.019490   \n",
       "total_eve_calls              0.009143              -0.003954   \n",
       "total_eve_charge            -0.009587               0.019496   \n",
       "total_night_minutes          0.000668               0.005541   \n",
       "total_night_calls           -0.007825               0.002676   \n",
       "total_intl_minutes           0.001291               0.002463   \n",
       "total_intl_calls             0.014277               0.000124   \n",
       "total_intl_charge            0.001292               0.002505   \n",
       "\n",
       "                       total_day_minutes  total_day_calls  total_day_charge  \\\n",
       "account_length                 -0.001017         0.028240         -0.001019   \n",
       "number_vmail_messages           0.005381         0.000883          0.005377   \n",
       "total_day_minutes               1.000000         0.001935          1.000000   \n",
       "total_day_calls                 0.001935         1.000000          0.001936   \n",
       "total_day_charge                1.000000         0.001936          1.000000   \n",
       "total_eve_minutes              -0.010750        -0.000699         -0.010747   \n",
       "total_eve_calls                 0.008128         0.003754          0.008129   \n",
       "total_eve_charge               -0.010760        -0.000695         -0.010757   \n",
       "total_night_minutes             0.011799         0.002804          0.011801   \n",
       "total_night_calls               0.004236        -0.008308          0.004235   \n",
       "total_intl_minutes             -0.019486         0.013097         -0.019490   \n",
       "total_intl_calls               -0.001303         0.010893         -0.001307   \n",
       "total_intl_charge              -0.019415         0.013161         -0.019419   \n",
       "\n",
       "                       total_eve_minutes  total_eve_calls  total_eve_charge  \\\n",
       "account_length                 -0.009591         0.009143         -0.009587   \n",
       "number_vmail_messages           0.019490        -0.003954          0.019496   \n",
       "total_day_minutes              -0.010750         0.008128         -0.010760   \n",
       "total_day_calls                -0.000699         0.003754         -0.000695   \n",
       "total_day_charge               -0.010747         0.008129         -0.010757   \n",
       "total_eve_minutes               1.000000         0.002763          1.000000   \n",
       "total_eve_calls                 0.002763         1.000000          0.002778   \n",
       "total_eve_charge                1.000000         0.002778          1.000000   \n",
       "total_night_minutes            -0.016639         0.001781         -0.016649   \n",
       "total_night_calls               0.013420        -0.013682          0.013422   \n",
       "total_intl_minutes              0.000137        -0.007458          0.000132   \n",
       "total_intl_calls                0.008388         0.005574          0.008393   \n",
       "total_intl_charge               0.000159        -0.007507          0.000155   \n",
       "\n",
       "                       total_night_minutes  total_night_calls  \\\n",
       "account_length                    0.000668          -0.007825   \n",
       "number_vmail_messages             0.005541           0.002676   \n",
       "total_day_minutes                 0.011799           0.004236   \n",
       "total_day_calls                   0.002804          -0.008308   \n",
       "total_day_charge                  0.011801           0.004235   \n",
       "total_eve_minutes                -0.016639           0.013420   \n",
       "total_eve_calls                   0.001781          -0.013682   \n",
       "total_eve_charge                 -0.016649           0.013422   \n",
       "total_night_minutes               1.000000           0.026972   \n",
       "total_night_calls                 0.026972           1.000000   \n",
       "total_intl_minutes               -0.006721           0.000391   \n",
       "total_intl_calls                 -0.017214          -0.000156   \n",
       "total_intl_charge                -0.006655           0.000368   \n",
       "\n",
       "                       total_intl_minutes  total_intl_calls  total_intl_charge  \n",
       "account_length                   0.001291          0.014277           0.001292  \n",
       "number_vmail_messages            0.002463          0.000124           0.002505  \n",
       "total_day_minutes               -0.019486         -0.001303          -0.019415  \n",
       "total_day_calls                  0.013097          0.010893           0.013161  \n",
       "total_day_charge                -0.019490         -0.001307          -0.019419  \n",
       "total_eve_minutes                0.000137          0.008388           0.000159  \n",
       "total_eve_calls                 -0.007458          0.005574          -0.007507  \n",
       "total_eve_charge                 0.000132          0.008393           0.000155  \n",
       "total_night_minutes             -0.006721         -0.017214          -0.006655  \n",
       "total_night_calls                0.000391         -0.000156           0.000368  \n",
       "total_intl_minutes               1.000000          0.016791           0.999993  \n",
       "total_intl_calls                 0.016791          1.000000           0.016900  \n",
       "total_intl_charge                0.999993          0.016900           1.000000  "
      ]
     },
     "execution_count": 12,
     "metadata": {},
     "output_type": "execute_result"
    }
   ],
   "source": [
    "corr"
   ]
  },
  {
   "cell_type": "code",
   "execution_count": 13,
   "metadata": {},
   "outputs": [
    {
     "name": "stdout",
     "output_type": "stream",
     "text": [
      "0.005381375960654535\n"
     ]
    }
   ],
   "source": [
    "from scipy.stats import pearsonr\n",
    "\n",
    "print (pearsonr(churn_df['total_day_minutes'], churn_df['number_vmail_messages'])[0])"
   ]
  },
  {
   "cell_type": "markdown",
   "metadata": {},
   "source": [
    "### Feature Processing"
   ]
  },
  {
   "cell_type": "code",
   "execution_count": 14,
   "metadata": {},
   "outputs": [],
   "source": [
    "y = np.where(churn_df['churned'] == 'True.', 1, 0)"
   ]
  },
  {
   "cell_type": "code",
   "execution_count": 15,
   "metadata": {},
   "outputs": [
    {
     "data": {
      "text/plain": [
       "array([0, 0, 0, 0, 0, 1, 0, 0, 0, 0, 0, 1, 0, 0, 0, 0, 0, 0, 0, 0, 1, 0,\n",
       "       0, 1, 0, 0, 0, 1, 0, 0, 0, 0, 0, 0, 0, 1, 0, 1, 0, 1, 0, 0, 0, 1,\n",
       "       0, 0, 0, 0, 0, 0, 0, 0, 0, 0, 1, 0, 1, 0, 1, 1, 0, 1, 0, 0, 0, 0,\n",
       "       0, 0, 0, 0, 0, 0, 0, 0, 0, 0, 0, 0, 0, 0, 0, 0, 0, 0, 0, 0, 0, 0,\n",
       "       0, 0, 0, 0, 0, 1, 0, 0, 0, 0, 0, 0])"
      ]
     },
     "execution_count": 15,
     "metadata": {},
     "output_type": "execute_result"
    }
   ],
   "source": [
    "y[::50]"
   ]
  },
  {
   "cell_type": "code",
   "execution_count": 16,
   "metadata": {},
   "outputs": [],
   "source": [
    "to_drop = ['state','area_code','phone_number','churned']\n",
    "churn_feat_space = churn_df.drop(to_drop, axis=1)\n",
    "\n",
    "yes_no_cols = [\"intl_plan\",\"voice_mail_plan\"]\n",
    "churn_feat_space[yes_no_cols] = churn_feat_space[yes_no_cols] == 'yes'\n"
   ]
  },
  {
   "cell_type": "code",
   "execution_count": 17,
   "metadata": {},
   "outputs": [
    {
     "data": {
      "text/html": [
       "<div>\n",
       "<style scoped>\n",
       "    .dataframe tbody tr th:only-of-type {\n",
       "        vertical-align: middle;\n",
       "    }\n",
       "\n",
       "    .dataframe tbody tr th {\n",
       "        vertical-align: top;\n",
       "    }\n",
       "\n",
       "    .dataframe thead th {\n",
       "        text-align: right;\n",
       "    }\n",
       "</style>\n",
       "<table border=\"1\" class=\"dataframe\">\n",
       "  <thead>\n",
       "    <tr style=\"text-align: right;\">\n",
       "      <th></th>\n",
       "      <th>account_length</th>\n",
       "      <th>intl_plan</th>\n",
       "      <th>voice_mail_plan</th>\n",
       "      <th>number_vmail_messages</th>\n",
       "      <th>total_day_minutes</th>\n",
       "      <th>total_day_calls</th>\n",
       "      <th>total_day_charge</th>\n",
       "      <th>total_eve_minutes</th>\n",
       "      <th>total_eve_calls</th>\n",
       "      <th>total_eve_charge</th>\n",
       "      <th>total_night_minutes</th>\n",
       "      <th>total_night_calls</th>\n",
       "      <th>total_night_charge</th>\n",
       "      <th>total_intl_minutes</th>\n",
       "      <th>total_intl_calls</th>\n",
       "      <th>total_intl_charge</th>\n",
       "      <th>number_customer_service_calls</th>\n",
       "    </tr>\n",
       "  </thead>\n",
       "  <tbody>\n",
       "    <tr>\n",
       "      <th>0</th>\n",
       "      <td>128</td>\n",
       "      <td>False</td>\n",
       "      <td>True</td>\n",
       "      <td>25</td>\n",
       "      <td>265.1</td>\n",
       "      <td>110</td>\n",
       "      <td>45.07</td>\n",
       "      <td>197.4</td>\n",
       "      <td>99</td>\n",
       "      <td>16.78</td>\n",
       "      <td>244.7</td>\n",
       "      <td>91</td>\n",
       "      <td>11.01</td>\n",
       "      <td>10.0</td>\n",
       "      <td>3</td>\n",
       "      <td>2.70</td>\n",
       "      <td>1</td>\n",
       "    </tr>\n",
       "    <tr>\n",
       "      <th>1</th>\n",
       "      <td>107</td>\n",
       "      <td>False</td>\n",
       "      <td>True</td>\n",
       "      <td>26</td>\n",
       "      <td>161.6</td>\n",
       "      <td>123</td>\n",
       "      <td>27.47</td>\n",
       "      <td>195.5</td>\n",
       "      <td>103</td>\n",
       "      <td>16.62</td>\n",
       "      <td>254.4</td>\n",
       "      <td>103</td>\n",
       "      <td>11.45</td>\n",
       "      <td>13.7</td>\n",
       "      <td>3</td>\n",
       "      <td>3.70</td>\n",
       "      <td>1</td>\n",
       "    </tr>\n",
       "    <tr>\n",
       "      <th>2</th>\n",
       "      <td>137</td>\n",
       "      <td>False</td>\n",
       "      <td>False</td>\n",
       "      <td>0</td>\n",
       "      <td>243.4</td>\n",
       "      <td>114</td>\n",
       "      <td>41.38</td>\n",
       "      <td>121.2</td>\n",
       "      <td>110</td>\n",
       "      <td>10.30</td>\n",
       "      <td>162.6</td>\n",
       "      <td>104</td>\n",
       "      <td>7.32</td>\n",
       "      <td>12.2</td>\n",
       "      <td>5</td>\n",
       "      <td>3.29</td>\n",
       "      <td>0</td>\n",
       "    </tr>\n",
       "    <tr>\n",
       "      <th>3</th>\n",
       "      <td>84</td>\n",
       "      <td>True</td>\n",
       "      <td>False</td>\n",
       "      <td>0</td>\n",
       "      <td>299.4</td>\n",
       "      <td>71</td>\n",
       "      <td>50.90</td>\n",
       "      <td>61.9</td>\n",
       "      <td>88</td>\n",
       "      <td>5.26</td>\n",
       "      <td>196.9</td>\n",
       "      <td>89</td>\n",
       "      <td>8.86</td>\n",
       "      <td>6.6</td>\n",
       "      <td>7</td>\n",
       "      <td>1.78</td>\n",
       "      <td>2</td>\n",
       "    </tr>\n",
       "    <tr>\n",
       "      <th>4</th>\n",
       "      <td>75</td>\n",
       "      <td>True</td>\n",
       "      <td>False</td>\n",
       "      <td>0</td>\n",
       "      <td>166.7</td>\n",
       "      <td>113</td>\n",
       "      <td>28.34</td>\n",
       "      <td>148.3</td>\n",
       "      <td>122</td>\n",
       "      <td>12.61</td>\n",
       "      <td>186.9</td>\n",
       "      <td>121</td>\n",
       "      <td>8.41</td>\n",
       "      <td>10.1</td>\n",
       "      <td>3</td>\n",
       "      <td>2.73</td>\n",
       "      <td>3</td>\n",
       "    </tr>\n",
       "  </tbody>\n",
       "</table>\n",
       "</div>"
      ],
      "text/plain": [
       "   account_length  intl_plan  voice_mail_plan  number_vmail_messages  \\\n",
       "0             128      False             True                     25   \n",
       "1             107      False             True                     26   \n",
       "2             137      False            False                      0   \n",
       "3              84       True            False                      0   \n",
       "4              75       True            False                      0   \n",
       "\n",
       "   total_day_minutes  total_day_calls  total_day_charge  total_eve_minutes  \\\n",
       "0              265.1              110             45.07              197.4   \n",
       "1              161.6              123             27.47              195.5   \n",
       "2              243.4              114             41.38              121.2   \n",
       "3              299.4               71             50.90               61.9   \n",
       "4              166.7              113             28.34              148.3   \n",
       "\n",
       "   total_eve_calls  total_eve_charge  total_night_minutes  total_night_calls  \\\n",
       "0               99             16.78                244.7                 91   \n",
       "1              103             16.62                254.4                103   \n",
       "2              110             10.30                162.6                104   \n",
       "3               88              5.26                196.9                 89   \n",
       "4              122             12.61                186.9                121   \n",
       "\n",
       "   total_night_charge  total_intl_minutes  total_intl_calls  \\\n",
       "0               11.01                10.0                 3   \n",
       "1               11.45                13.7                 3   \n",
       "2                7.32                12.2                 5   \n",
       "3                8.86                 6.6                 7   \n",
       "4                8.41                10.1                 3   \n",
       "\n",
       "   total_intl_charge  number_customer_service_calls  \n",
       "0               2.70                              1  \n",
       "1               3.70                              1  \n",
       "2               3.29                              0  \n",
       "3               1.78                              2  \n",
       "4               2.73                              3  "
      ]
     },
     "execution_count": 17,
     "metadata": {},
     "output_type": "execute_result"
    }
   ],
   "source": [
    "churn_feat_space.head()"
   ]
  },
  {
   "cell_type": "code",
   "execution_count": 18,
   "metadata": {},
   "outputs": [],
   "source": [
    "X = churn_feat_space.values.astype(np.float)"
   ]
  },
  {
   "cell_type": "code",
   "execution_count": 19,
   "metadata": {},
   "outputs": [],
   "source": [
    "# churn_feat_space.values"
   ]
  },
  {
   "cell_type": "code",
   "execution_count": 20,
   "metadata": {},
   "outputs": [],
   "source": [
    "# churn_feat_space.values.astype(np.float)"
   ]
  },
  {
   "cell_type": "code",
   "execution_count": 21,
   "metadata": {},
   "outputs": [],
   "source": [
    "# X"
   ]
  },
  {
   "cell_type": "code",
   "execution_count": 22,
   "metadata": {},
   "outputs": [
    {
     "name": "stdout",
     "output_type": "stream",
     "text": [
      "Feature space holds 5000 observations and 17 features\n",
      "Unique target labels: [0 1]\n"
     ]
    }
   ],
   "source": [
    "from sklearn.preprocessing import StandardScaler\n",
    "\n",
    "scaler = StandardScaler()\n",
    "X = scaler.fit_transform(X)\n",
    "\n",
    "print('Feature space holds %d observations and %d features' % X.shape)\n",
    "print('Unique target labels:', np.unique(y))"
   ]
  },
  {
   "cell_type": "code",
   "execution_count": 23,
   "metadata": {},
   "outputs": [],
   "source": [
    "# np.unique(np.array([1,2,3,4,5,6,7,7,7,7,8,8,9,9,9]))"
   ]
  },
  {
   "cell_type": "markdown",
   "metadata": {},
   "source": [
    "# Model Training and Result Evaluation"
   ]
  },
  {
   "cell_type": "markdown",
   "metadata": {},
   "source": [
    "## K-fold Cross-Validation"
   ]
  },
  {
   "cell_type": "code",
   "execution_count": 24,
   "metadata": {},
   "outputs": [],
   "source": [
    "from sklearn.model_selection import KFold\n",
    "\n",
    "def run_cv(X, y, clf_class, **kwargs) :\n",
    "    kf = KFold(n_splits=5, shuffle=True)\n",
    "    y_pred = y.copy()\n",
    "    clf = clf_class(**kwargs)\n",
    "    \n",
    "    for train, test in kf.split(X) :\n",
    "        X_train, X_test = X[train], X[test]\n",
    "        y_train = y[train]\n",
    "        \n",
    "        clf.fit(X_train, y_train)\n",
    "        y_pred[test] = clf.predict(X_test)\n",
    "    \n",
    "    return y_pred\n",
    "    \n",
    "    "
   ]
  },
  {
   "cell_type": "markdown",
   "metadata": {},
   "source": [
    "## Supervised Learning Models and Calculate Accuracy"
   ]
  },
  {
   "cell_type": "code",
   "execution_count": 25,
   "metadata": {},
   "outputs": [],
   "source": [
    "from sklearn.ensemble import RandomForestClassifier\n",
    "from sklearn.neighbors import KNeighborsClassifier\n",
    "from sklearn.linear_model import LogisticRegression\n",
    "from sklearn.svm import SVC\n",
    "\n",
    "def accuracy(y_true, y_pred) :\n",
    "    return np.mean(y_true == y_pred)\n"
   ]
  },
  {
   "cell_type": "code",
   "execution_count": 26,
   "metadata": {},
   "outputs": [],
   "source": [
    "LR_CV_result = run_cv(X, y, LogisticRegression)\n",
    "RF_CV_result = run_cv(X, y, RandomForestClassifier)\n",
    "KNN_CV_result = run_cv(X, y, KNeighborsClassifier)\n",
    "SVM_CV_result = run_cv(X, y, SVC)"
   ]
  },
  {
   "cell_type": "code",
   "execution_count": 27,
   "metadata": {},
   "outputs": [],
   "source": [
    "# clfss = KNeighborsClassifier()"
   ]
  },
  {
   "cell_type": "code",
   "execution_count": 28,
   "metadata": {},
   "outputs": [],
   "source": [
    "# xia = clfss.fit([[10],[20],[39],[43],[5],[7],[4]],[0,1,1,1,0,0,0])"
   ]
  },
  {
   "cell_type": "code",
   "execution_count": 29,
   "metadata": {},
   "outputs": [],
   "source": [
    "# xia.predict([[32], [3], [1]])"
   ]
  },
  {
   "cell_type": "code",
   "execution_count": 30,
   "metadata": {},
   "outputs": [],
   "source": [
    "# clf_class(LogisticRegression)"
   ]
  },
  {
   "cell_type": "code",
   "execution_count": 31,
   "metadata": {},
   "outputs": [
    {
     "name": "stdout",
     "output_type": "stream",
     "text": [
      "Logistic Regression (L2 is default): \t0.8656\n",
      "Random Forest: \t0.9510\n",
      "K-nearest-neighbors: \t0.8990\n",
      "SVM : \t0.9304\n"
     ]
    }
   ],
   "source": [
    "print('Logistic Regression (L2 is default): \\t%.4f' \n",
    "      % accuracy(y, LR_CV_result))\n",
    "print('Random Forest: \\t%.4f' \n",
    "     % accuracy(y, RF_CV_result))\n",
    "print('K-nearest-neighbors: \\t%.4f' \n",
    "     % accuracy(y, KNN_CV_result))\n",
    "print('SVM : \\t%.4f' \n",
    "     % accuracy(y, SVM_CV_result))"
   ]
  },
  {
   "cell_type": "markdown",
   "metadata": {},
   "source": [
    "## Grid Search to Find Optimal Parameters"
   ]
  },
  {
   "cell_type": "markdown",
   "metadata": {},
   "source": [
    "### Finding Optimal Parameters: LogisticRegression"
   ]
  },
  {
   "cell_type": "code",
   "execution_count": 32,
   "metadata": {},
   "outputs": [],
   "source": [
    "def print_grid_search_metrics(gs) :\n",
    "    print('Best score: %.3f' % gs.best_score_)\n",
    "    print('Best parameters set:')\n",
    "    best_parameters = gs.best_params_\n",
    "    \n",
    "    for param_name in sorted(parameters.keys()) :\n",
    "        print('\\t%s: %r' % (param_name, best_parameters[param_name]))"
   ]
  },
  {
   "cell_type": "code",
   "execution_count": 33,
   "metadata": {},
   "outputs": [
    {
     "name": "stdout",
     "output_type": "stream",
     "text": [
      "Fitting 5 folds for each of 8 candidates, totalling 40 fits\n"
     ]
    },
    {
     "name": "stderr",
     "output_type": "stream",
     "text": [
      "[Parallel(n_jobs=1)]: Done  40 out of  40 | elapsed:    5.1s finished\n"
     ]
    },
    {
     "data": {
      "text/plain": [
       "GridSearchCV(cv=5, error_score='raise',\n",
       "       estimator=LogisticRegression(C=1.0, class_weight=None, dual=False, fit_intercept=True,\n",
       "          intercept_scaling=1, max_iter=100, multi_class='ovr', n_jobs=1,\n",
       "          penalty='l2', random_state=None, solver='liblinear', tol=0.0001,\n",
       "          verbose=0, warm_start=False),\n",
       "       fit_params=None, iid=True, n_jobs=1,\n",
       "       param_grid={'penalty': ('l1', 'l2'), 'C': (1, 2, 5, 10)},\n",
       "       pre_dispatch='2*n_jobs', refit=False, return_train_score='warn',\n",
       "       scoring=None, verbose=1)"
      ]
     },
     "execution_count": 33,
     "metadata": {},
     "output_type": "execute_result"
    }
   ],
   "source": [
    "from sklearn.model_selection import GridSearchCV\n",
    "\n",
    "parameters = {\n",
    "    'penalty': ('l1', 'l2'),\n",
    "    'C': (1, 2, 5, 10)\n",
    "}\n",
    "\n",
    "Grid_LR = GridSearchCV(\n",
    "    LogisticRegression(), parameters, cv=5, verbose=1, refit=False)\n",
    "Grid_LR.fit(X, y)"
   ]
  },
  {
   "cell_type": "code",
   "execution_count": 34,
   "metadata": {},
   "outputs": [
    {
     "name": "stdout",
     "output_type": "stream",
     "text": [
      "Best score: 0.865\n",
      "Best parameters set:\n",
      "\tC: 1\n",
      "\tpenalty: 'l1'\n"
     ]
    }
   ],
   "source": [
    "print_grid_search_metrics(Grid_LR)"
   ]
  },
  {
   "cell_type": "code",
   "execution_count": 35,
   "metadata": {},
   "outputs": [
    {
     "name": "stdout",
     "output_type": "stream",
     "text": [
      "Logistic Regression 5-fold cross validation accuracy: \t0.86520169180169193002\n"
     ]
    }
   ],
   "source": [
    "from sklearn.model_selection import cross_val_score\n",
    "\n",
    "score = cross_val_score(\n",
    "    LogisticRegression(C=1, penalty='l1'),\n",
    "    X, y, cv=5\n",
    ")\n",
    "\n",
    "print('Logistic Regression 5-fold cross validation accuracy: \\t%.20f'\n",
    "     % np.mean(score))"
   ]
  },
  {
   "cell_type": "markdown",
   "metadata": {},
   "source": [
    "### Finding Optimal Parameters: KNN"
   ]
  },
  {
   "cell_type": "code",
   "execution_count": 38,
   "metadata": {},
   "outputs": [
    {
     "name": "stdout",
     "output_type": "stream",
     "text": [
      "Fitting 5 folds for each of 4 candidates, totalling 20 fits\n"
     ]
    },
    {
     "name": "stderr",
     "output_type": "stream",
     "text": [
      "[Parallel(n_jobs=1)]: Done  20 out of  20 | elapsed:   16.6s finished\n"
     ]
    },
    {
     "data": {
      "text/plain": [
       "GridSearchCV(cv=5, error_score='raise',\n",
       "       estimator=KNeighborsClassifier(algorithm='auto', leaf_size=30, metric='minkowski',\n",
       "           metric_params=None, n_jobs=1, n_neighbors=5, p=2,\n",
       "           weights='uniform'),\n",
       "       fit_params=None, iid=True, n_jobs=1,\n",
       "       param_grid={'n_neighbors': [3, 5, 7, 10]}, pre_dispatch='2*n_jobs',\n",
       "       refit=False, return_train_score='warn', scoring=None, verbose=1)"
      ]
     },
     "execution_count": 38,
     "metadata": {},
     "output_type": "execute_result"
    }
   ],
   "source": [
    "# from sklearn.model_selection import GridSearchCV\n",
    "\n",
    "parameters = {\n",
    "    'n_neighbors': [3, 5, 7, 10]\n",
    "}\n",
    "\n",
    "Grid_KNN = GridSearchCV(\n",
    "    KNeighborsClassifier(), parameters, cv=5, verbose=1, refit=False)\n",
    "Grid_KNN.fit(X, y)"
   ]
  },
  {
   "cell_type": "code",
   "execution_count": 39,
   "metadata": {},
   "outputs": [
    {
     "name": "stdout",
     "output_type": "stream",
     "text": [
      "Best score: 0.900\n",
      "Best parameters set:\n",
      "\tn_neighbors: 5\n"
     ]
    }
   ],
   "source": [
    "print_grid_search_metrics(Grid_KNN)"
   ]
  },
  {
   "cell_type": "code",
   "execution_count": 41,
   "metadata": {},
   "outputs": [
    {
     "name": "stdout",
     "output_type": "stream",
     "text": [
      "5-fold cross validation accuracy : \t0.90040212060212065914\n"
     ]
    }
   ],
   "source": [
    "# from sklearn.model_selection import cross_val_score\n",
    "\n",
    "score = cross_val_score(KNeighborsClassifier(n_neighbors=5), \n",
    "                        X, y, cv=5)\n",
    "print('5-fold cross validation accuracy : \\t%.20f' % np.mean(score))"
   ]
  },
  {
   "cell_type": "markdown",
   "metadata": {},
   "source": [
    "## Calculate Confusion Matrix\n",
    "### Precision, Recall, Accuracy"
   ]
  },
  {
   "cell_type": "markdown",
   "metadata": {},
   "source": [
    "#### <div align=center>Confusion Matrix</div>"
   ]
  },
  {
   "cell_type": "markdown",
   "metadata": {},
   "source": [
    "<div align=center>https://en.wikipedia.org/wiki/Confusion_matrix</div>"
   ]
  },
  {
   "cell_type": "markdown",
   "metadata": {},
   "source": [
    "<table style=\"font-size: 120%;\">\n",
    "    <tr>\n",
    "        <td \n",
    "            style=\"background:white; border:none\"\n",
    "            colspan=2>\n",
    "        </td>\n",
    "        <th colspan=2 \n",
    "            style=\"font-size: 15px\">\n",
    "            True condition\n",
    "        </th>\n",
    "    </tr>\n",
    "    <tr style=\"background:#eaecf0\">\n",
    "        <td \n",
    "            style=\"background:white; border:none\"\n",
    "            colspan=2>\n",
    "        </td>\n",
    "        <th>True</th>\n",
    "        <th>False</th>\n",
    "    </tr>\n",
    "    <tr>\n",
    "        <th \n",
    "            rowspan=2 style=\"font-size: 15px\">\n",
    "            Predicted<br>condition\n",
    "        </th>\n",
    "        <th style=\"background:#eaecf0\">True</th>\n",
    "        <td style=\"background: #ffffff\">True positive</td>\n",
    "        <td style=\"background: #ffffff\">\n",
    "            False positive\n",
    "            <div style=\"font-size: 10px; color: #aa5555\">\n",
    "                Type I error\n",
    "            </div>\n",
    "        </td>\n",
    "    </tr>\n",
    "    <tr>\n",
    "        <th style=\"background:#eaecf0\">False</th>\n",
    "        <td>\n",
    "            False negative\n",
    "            <div style=\"font-size: 10px; color: #aa5555\">\n",
    "                Type II error\n",
    "            </div>\n",
    "        </td>\n",
    "        <td>True negative</td>\n",
    "    </tr>\n",
    "</table>"
   ]
  },
  {
   "cell_type": "markdown",
   "metadata": {},
   "source": [
    "**precision** or **positive predictive rate (PPV)**:\n",
    "<p>\n",
    "$$precision = \\frac{true\\ positive}{true\\ positive + false\\ positive}$$\n",
    "</p>\n",
    "<p>\n",
    "$$PPV = \\frac{TP}{TP + FP}$$\n",
    "</p>\n",
    "<br><br>\n",
    "**recall**, **sensitivity**, **hit rate** or **true positive rate (TPR)**:\n",
    "<p>\n",
    "$$recall = \\frac{true\\ positive}{true\\ positive + false\\ negative}$$\n",
    "</p>\n",
    "<p>\n",
    "$$TPR = \\frac{TP}{TP + FN}$$\n",
    "</p>\n",
    "<br><br>\n",
    "**accuracy(ACC)**:\n",
    "<p>\n",
    "$$ACC = \\frac{TP +TN}{TP + TN + FP + FN}$$\n",
    "</p>"
   ]
  },
  {
   "cell_type": "code",
   "execution_count": 51,
   "metadata": {},
   "outputs": [],
   "source": [
    "from sklearn.metrics import confusion_matrix\n",
    "from sklearn.metrics import precision_score\n",
    "from sklearn.metrics import recall_score\n",
    "\n",
    "def cal_evaluation(classifier, cm) :\n",
    "    tn = cm[0][0]\n",
    "    fp = cm[0][1]\n",
    "    fn = cm[1][0]\n",
    "    tp = cm[1][1]\n",
    "    accuracy = (tp + tn) / (tp + tn + fp + fn + 0.0)\n",
    "    precision = tp / (tp + fp + 0.0)\n",
    "    recall = tp / (tp + fn + 0.0)\n",
    "    print(classifier)\n",
    "    print('Accuracy is \\t%.10f' % accuracy)\n",
    "    print('Precision is \\t%.10f' % precision)\n",
    "    print('Recall is \\t%.10f' % recall)\n",
    "    \n",
    "def draw_confusion_matrices(confusion_matrices, class_names) :\n",
    "    class_names = ['Not', 'Churn']\n",
    "    for cm in confusion_matrices:\n",
    "        classifier, cm = cm[0], cm[1]\n",
    "        cal_evaluation(classifier, cm)\n",
    "        fig = plt.figure()\n",
    "        ax = fig.add_subplot(111)\n",
    "        cax = ax.matshow(\n",
    "            cm, interpolation='nearest', cmap=plt.get_cmap('Blues'))\n",
    "        plt.title('Confusion matrix for %s' % classifier)\n",
    "        fig.colorbar(cax)\n",
    "        ax.set_xticklabels([''] + class_names)\n",
    "        ax.set_yticklabels([''] + class_names)\n",
    "        plt.xlabel('Predicted')\n",
    "        plt.ylabel('True')\n",
    "        plt.show()"
   ]
  },
  {
   "cell_type": "code",
   "execution_count": 52,
   "metadata": {},
   "outputs": [
    {
     "name": "stdout",
     "output_type": "stream",
     "text": [
      "[0 1]\n",
      "Random Forest\n",
      "Accuracy is \t0.9510000000\n",
      "Precision is \t0.9342105263\n",
      "Recall is \t0.7029702970\n"
     ]
    },
    {
     "data": {
      "image/png": "[encoded data removed]",
      "text/plain": [
       "<Figure size 432x288 with 2 Axes>"
      ]
     },
     "metadata": {},
     "output_type": "display_data"
    },
    {
     "name": "stdout",
     "output_type": "stream",
     "text": [
      "K-Nearest-Neighbors\n",
      "Accuracy is \t0.8990000000\n",
      "Precision is \t0.8216560510\n",
      "Recall is \t0.3649222065\n"
     ]
    },
    {
     "data": {
      "image/png": "[encoded data removed]",
      "text/plain": [
       "<Figure size 432x288 with 2 Axes>"
      ]
     },
     "metadata": {},
     "output_type": "display_data"
    },
    {
     "name": "stdout",
     "output_type": "stream",
     "text": [
      "Logisitic Regression\n",
      "Accuracy is \t0.8656000000\n",
      "Precision is \t0.5702811245\n",
      "Recall is \t0.2008486563\n"
     ]
    },
    {
     "data": {
      "image/png": "[encoded data removed]",
      "text/plain": [
       "<Figure size 432x288 with 2 Axes>"
      ]
     },
     "metadata": {},
     "output_type": "display_data"
    }
   ],
   "source": [
    "%matplotlib inline\n",
    "\n",
    "y = np.array(y)\n",
    "class_names = np.unique(y)\n",
    "print(class_names)\n",
    "\n",
    "confusion_matrices = [\n",
    "    (\"Random Forest\", confusion_matrix(y,RF_CV_result)),\n",
    "    (\"K-Nearest-Neighbors\", confusion_matrix(y,KNN_CV_result)),\n",
    "    (\"Logisitic Regression\", confusion_matrix(y,LR_CV_result))\n",
    "]\n",
    "\n",
    "draw_confusion_matrices(confusion_matrices, class_names)"
   ]
  },
  {
   "cell_type": "markdown",
   "metadata": {},
   "source": [
    "# Feature Selection"
   ]
  },
  {
   "cell_type": "markdown",
   "metadata": {},
   "source": [
    "## Logistic Regression Model: Feature Selection"
   ]
  },
  {
   "cell_type": "markdown",
   "metadata": {},
   "source": [
    "The corelated features that we are interested in: (total_day_minutes, total_day_charge), (total_eve_minutes, total_eve_charge), (total_intl_minutes, total_intl_charge)."
   ]
  },
  {
   "cell_type": "markdown",
   "metadata": {},
   "source": [
    "### Compare Feature Coefficients"
   ]
  },
  {
   "cell_type": "code",
   "execution_count": 56,
   "metadata": {},
   "outputs": [
    {
     "name": "stdout",
     "output_type": "stream",
     "text": [
      "Logistic Regression (L1) Coefficients\n",
      "voice_mail_plan: \t-0.8656\n",
      "number_customer_service_calls: \t0.673\n",
      "total_day_minutes: \t0.6706\n",
      "intl_plan: \t0.613\n",
      "number_vmail_messages: \t0.3959\n",
      "total_eve_charge: \t0.2889\n",
      "total_intl_calls: \t-0.1743\n",
      "total_night_charge: \t0.1551\n",
      "total_intl_charge: \t0.1379\n",
      "total_intl_minutes: \t0.1055\n",
      "total_eve_minutes: \t0.0689\n",
      "total_day_charge: \t0.0638\n",
      "account_length: \t0.0534\n",
      "total_day_calls: \t0.0495\n",
      "total_night_minutes: \t0.0466\n",
      "total_night_calls: \t-0.0288\n",
      "total_eve_calls: \t-0.0284\n"
     ]
    }
   ],
   "source": [
    "LRmodel_l1 = LogisticRegression(penalty='l1')\n",
    "LRmodel_l1.fit(X, y)\n",
    "LRmodel_l1.coef_[0]\n",
    "print('Logistic Regression (L1) Coefficients')\n",
    "for k,v in sorted(\n",
    "    zip(map(lambda x: round(x, 4), LRmodel_l1.coef_[0]), \n",
    "        churn_feat_space.columns), \n",
    "    key=lambda k_v: (-abs(k_v[0]), k_v[1])) :\n",
    "    print(v + ': \\t' + str(k))"
   ]
  },
  {
   "cell_type": "code",
   "execution_count": 57,
   "metadata": {},
   "outputs": [
    {
     "name": "stdout",
     "output_type": "stream",
     "text": [
      "Logistic Regression (L2) Coefficients\n",
      "voice_mail_plan: \t-0.8929\n",
      "number_customer_service_calls: \t0.6731\n",
      "intl_plan: \t0.6132\n",
      "number_vmail_messages: \t0.4234\n",
      "total_day_minutes: \t0.3687\n",
      "total_day_charge: \t0.3664\n",
      "total_eve_charge: \t0.18\n",
      "total_eve_minutes: \t0.1794\n",
      "total_intl_calls: \t-0.1761\n",
      "total_intl_charge: \t0.1235\n",
      "total_intl_minutes: \t0.1217\n",
      "total_night_minutes: \t0.1028\n",
      "total_night_charge: \t0.1008\n",
      "account_length: \t0.0552\n",
      "total_day_calls: \t0.0513\n",
      "total_night_calls: \t-0.0307\n",
      "total_eve_calls: \t-0.0304\n"
     ]
    }
   ],
   "source": [
    "LRmodel_l2 = LogisticRegression(penalty='l2')\n",
    "LRmodel_l2.fit(X, y)\n",
    "LRmodel_l2.coef_[0]\n",
    "print('Logistic Regression (L2) Coefficients')\n",
    "for k,v in sorted(\n",
    "    zip(map(lambda x: round(x, 4), LRmodel_l2.coef_[0]), \n",
    "        churn_feat_space.columns), \n",
    "    key=lambda k_v: (-abs(k_v[0]), k_v[1])) :\n",
    "    print(v + ': \\t' + str(k))"
   ]
  },
  {
   "cell_type": "markdown",
   "metadata": {},
   "source": [
    "### Recursive Feature Elimination (RFE)"
   ]
  },
  {
   "cell_type": "markdown",
   "metadata": {},
   "source": [
    "The goal of recursive feature elimination (RFE) is to select features by recursively considering smaller and smaller sets of features."
   ]
  },
  {
   "cell_type": "code",
   "execution_count": 61,
   "metadata": {},
   "outputs": [
    {
     "name": "stdout",
     "output_type": "stream",
     "text": [
      "Logistic Regression (L1) RFE Result\n",
      "total_day_minutes: \t1\n",
      "number_customer_service_calls: \t2\n",
      "intl_plan: \t3\n",
      "voice_mail_plan: \t4\n",
      "number_vmail_messages: \t5\n",
      "total_eve_charge: \t6\n",
      "total_intl_charge: \t7\n",
      "total_night_minutes: \t8\n",
      "total_day_charge: \t9\n",
      "total_intl_calls: \t10\n",
      "total_eve_minutes: \t11\n",
      "account_length: \t12\n",
      "total_intl_minutes: \t13\n",
      "total_day_calls: \t14\n",
      "total_night_calls: \t15\n",
      "total_eve_calls: \t16\n",
      "total_night_charge: \t17\n"
     ]
    }
   ],
   "source": [
    "from sklearn.feature_selection import RFE\n",
    "\n",
    "rfe_l1 = RFE(LRmodel_l1, n_features_to_select=1)\n",
    "rfe_l1.fit(X, y)\n",
    "print('Logistic Regression (L1) RFE Result')\n",
    "for k,v in sorted(\n",
    "    zip(map(lambda x: round(x, 4), rfe_l1.ranking_), \n",
    "        churn_feat_space.columns)):\n",
    "    print(v + ': \\t' + str(k))"
   ]
  },
  {
   "cell_type": "code",
   "execution_count": 62,
   "metadata": {},
   "outputs": [
    {
     "name": "stdout",
     "output_type": "stream",
     "text": [
      "Logistic Regression (L2) RFE Result\n",
      "total_day_minutes: \t1\n",
      "number_customer_service_calls: \t2\n",
      "intl_plan: \t3\n",
      "voice_mail_plan: \t4\n",
      "number_vmail_messages: \t5\n",
      "total_day_charge: \t6\n",
      "total_eve_charge: \t7\n",
      "total_intl_charge: \t8\n",
      "total_night_minutes: \t9\n",
      "total_eve_minutes: \t10\n",
      "total_intl_calls: \t11\n",
      "total_intl_minutes: \t12\n",
      "total_night_charge: \t13\n",
      "account_length: \t14\n",
      "total_day_calls: \t15\n",
      "total_night_calls: \t16\n",
      "total_eve_calls: \t17\n"
     ]
    }
   ],
   "source": [
    "# from sklearn.feature_selection import RFE\n",
    "\n",
    "rfe_l2 = RFE(LRmodel_l2, n_features_to_select=1)\n",
    "rfe_l2.fit(X, y)\n",
    "print('Logistic Regression (L2) RFE Result')\n",
    "for k,v in sorted(\n",
    "    zip(map(lambda x: round(x, 4), rfe_l2.ranking_), \n",
    "        churn_feat_space.columns)):\n",
    "    print(v + ': \\t' + str(k))"
   ]
  },
  {
   "cell_type": "markdown",
   "metadata": {},
   "source": [
    "## Random Forest Model: Feature Importance"
   ]
  },
  {
   "cell_type": "code",
   "execution_count": null,
   "metadata": {},
   "outputs": [],
   "source": [
    "forest = RandomForestClassifier()\n",
    "forest.fit(X, y)\n",
    "\n",
    "importances = forest.feature_importances_\n",
    "\n",
    "print('Feature importance ranking by Random Forest Model: ')\n",
    "for k,v in sorted(\n",
    "    zip(map(lambda x: xround(x, 4), importances), \n",
    "        churn_feat_space_columns), \n",
    "    reverse=True)"
   ]
  }
 ],
 "metadata": {
  "kernelspec": {
   "display_name": "Python 3",
   "language": "python",
   "name": "python3"
  },
  "language_info": {
   "codemirror_mode": {
    "name": "ipython",
    "version": 3
   },
   "file_extension": ".py",
   "mimetype": "text/x-python",
   "name": "python",
   "nbconvert_exporter": "python",
   "pygments_lexer": "ipython3",
   "version": "3.6.5"
  }
 },
 "nbformat": 4,
 "nbformat_minor": 2
}
